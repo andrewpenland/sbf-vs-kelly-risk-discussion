{
 "cells": [
  {
   "cell_type": "markdown",
   "id": "e95b1741-3f2d-4acd-af33-25dc6527776c",
   "metadata": {},
   "source": [
    "# Strategies \n",
    "\n",
    "**\"You got to know when to hold 'em, know when to fold 'em, know when to walk away, and know when to run.\"**\n",
    "\n",
    "-- Kenny Rogers, \"The Gambler\""
   ]
  },
  {
   "cell_type": "markdown",
   "id": "43149bcb-cd26-4b71-bf24-8b22c2fbcd72",
   "metadata": {},
   "source": [
    "## Introduction\n",
    "\n",
    "Ultimately, a financial investment reflects the mindset of the person who makes it. If you know how someone spends their money, you can infer a lot about their priorities and beliefs. \n",
    "\n",
    "On the other hand, we expect that seeing how someone approaches a simple problem lets us know how they will approach more complicated problems in the future: this is the basis of many questions in a job interview. \n",
    "\n",
    "In 2019, then-CEO of Alameda (**todo: check**) Samuel Bankman-Fried tweeted (**todo: link**) a hot take on a classic question of strategy for the simple game of betting on a coin flip. Bankman-Fried's proposed strategy for optimal investment clashed with an idea established earlier known as the Kelly Criterion. \n",
    "\n",
    "Our goal is to compare Bankman-Fried's proposed solution to the Kelly Criterion. Ultimately, we will leave it to the reader to decide who is right. "
   ]
  },
  {
   "cell_type": "markdown",
   "id": "db034800-c576-4108-aa27-1476cd4ef2e8",
   "metadata": {},
   "source": [
    "## Let's Play the Game\n",
    "\n",
    "One of the simplest betting games called **BiasedCoinFlip**, which has probability $p$ of coming up **Heads**. Suppose you start with 100 USD, and you are going to bet double-or-nothing that the next flip comes. How much should you bet? \n",
    "\n",
    "It is not hard to see that the amount to bet depends on $p$. If $p = 0$, winning is impossible, and you shouldn't play. If $p = 1$, winning is certain, and you should bet everything you have: you will double your money. "
   ]
  },
  {
   "cell_type": "markdown",
   "id": "1ec45119-4abd-4194-b8de-02531a16dff2",
   "metadata": {},
   "source": [
    "## Placeholder for Basic Coin Flip Game "
   ]
  },
  {
   "cell_type": "markdown",
   "id": "83a808d3-3d7e-4d73-b407-5effd5377591",
   "metadata": {},
   "source": [
    "If we actually play **BiasedCoinFlip** repeatedly, we will be able to add our winnings from one round to our winnings from another round. So the amount available will change, but is also irrelevant. What the player needs is a *strategy* about what *proportion* of their assets should be allocated to each turn. \n",
    "\n",
    "To make things a bit more interesting, let's expand our possibilities beyond double-or-nothing. We can consider the proportion of the player's bet that gain if they win; let's call this number $b$. In double-or-nothing, $b = 1$. \n",
    "\n",
    "A *strategy* simply describes how much we bet each turn. There are two simple strategies: \n",
    "* **YOLO**: bet the entire amount (100%) at our disposal each turn. If we hit an early winning streak, we will likely experience massive growth in the short term. As soon as we lose, we are bust. \n",
    "* **Don't Do Anything**: abstain from betting (i.e. bet 0%) each turn. The player will not lose any money, but will not make any either. \n",
    "\n",
    "Both of these strategies are a bit ridiculous, *because they do not take into account either probability of winning (p) or potential return on investment (b)*. Mathematically, what we want is a function $f(p,b)$ which considers the risk ($p$) and potential reward ($b$) and returns the fraction $f$ that the player should bet. \n",
    "\n",
    "To get a sense of how this works, try the game below. You can adjust risk ($p$) and reward ($b$), then input the number $f$ between 0 and 1 that you set as the fraction to bet on each turn. \n",
    "\n",
    "## Placeholder for playing repeated biased coin flips\n",
    "\n",
    "* Amount\n",
    "* Number of flips\n",
    "* Fraction (f)\n",
    "* Probability (p)\n",
    "* Winning multiplier (this could have a better name)\n",
    "* When user clicks a button, this generates a simulated graph of the results. \n",
    "* Styled table showing the proportion strategy that the user employed, along with the final number and return on investments.  "
   ]
  },
  {
   "cell_type": "markdown",
   "id": "de0a0b81-bd7c-44ca-aeaa-a50ca66d47b8",
   "metadata": {},
   "source": [
    "Obviously, when choosing a strategy, it should be a function of the win probability $p$. What's the **best strategy** to employ? This question was considered in a seminal 1956 paper by [John Kelly, Jr.](https://en.wikipedia.org/wiki/John_Larry_Kelly_Jr.) entitled [\"A New Interpretation of Information Rate\"](https://www.princeton.edu/~wbialek/rome/refs/kelly_56.pdf), (**to-consider:** mention Kelly's role.), in which he developed the now-famous [Kelly Criterion](https://en.wikipedia.org/wiki/Kelly_criterion) for games wh\n",
    "\n",
    "**Kelly Criterion for Betting on a Game (like BiasedCoinFlip):** If a player knows the probability of winning is $p$ and that a win will return $b$ times the original bet, the best strategy bet the percentage $$p - \\frac{1-p}{b}$$ of the total amount on each turn. \n",
    "\n",
    "Let's call this function $\\text{Kelly}(b,p)$\n",
    "\n",
    "\n",
    "## Placeholder for heatmap of $Kelly$ as a graph of $b$ and $p$ (maintain data to compare user's f to optimal?) \n",
    "\n",
    "## Placeholder for a graph of $f$ vs. $p$, where $b$ is a slider. \n",
    "\n",
    "## Placeholder for a graph of $f$ vs. $b$, where $p$ is a slider."
   ]
  },
  {
   "cell_type": "markdown",
   "id": "82ee9a3a-ceea-4a86-8ee7-97aa36a15aa5",
   "metadata": {},
   "source": [
    "## A Different Possibility?\n",
    "\n",
    "Now let's consider the strategy that Samuel Bankman-Fried discussed.  Let's call this function $SBF(p,b)$. Again, it specifies the proportion of the capital to bet bassed on the winning probability $p$ and return-on-investment $b$. \n",
    "\n",
    "### todo: describe the strategy, along with three graphs comparing it side-by-side with Kelly's \n",
    "\n",
    "As you can see, the SBF function is more aggressive than the Kelly function."
   ]
  },
  {
   "cell_type": "markdown",
   "id": "a915d979-38d8-462f-97a7-b6def0fa7249",
   "metadata": {},
   "source": [
    "## Why the Difference? \n",
    "\n",
    "To understand the difference between the two strategies, we need to understand how they came into existence. Each is the solution to an *optimization problem*. To get started, we need to specify an *optimization function* that tells us the value of $b$ and $p$. Once the optimization function is specified, the math kicks in and we are left with a specific result. \n",
    "\n",
    "In other words, Samuel Bankman-Fried isn't getting a different answer than Kelly because of a mathematical error. Both Kelly and SBF are doing the math correctly. However, they are starting with *different views of what it means for something to be the best*. **todo:** Elaborate on this, what the specific utility functions are and how they lead to the different solutions. "
   ]
  }
 ],
 "metadata": {
  "kernelspec": {
   "display_name": "Python 3 (ipykernel)",
   "language": "python",
   "name": "python3"
  },
  "language_info": {
   "codemirror_mode": {
    "name": "ipython",
    "version": 3
   },
   "file_extension": ".py",
   "mimetype": "text/x-python",
   "name": "python",
   "nbconvert_exporter": "python",
   "pygments_lexer": "ipython3",
   "version": "3.9.7"
  }
 },
 "nbformat": 4,
 "nbformat_minor": 5
}
